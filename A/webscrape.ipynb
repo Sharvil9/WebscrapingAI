import nltk
import numpy as np
import random
import string
import bs4 as bs
import urllib.request
import re

url = 'https://www.wikiwand.com/en/articles/Neuralink'  # Ensure this is a valid URL

if url:
    try:
        link = urllib.request.urlopen(url)
        link = link.read()
        data = bs.BeautifulSoup(link, 'lxml')
        data_paragraphs = data.find_all('p')
        data_text = ''

        for para in data_paragraphs:
            data_text += para.text    
        data_text = data_text.lower()
        data_text = re.sub(r'\[[0-9]*\]', ' ', data_text)
        data_text = re.sub(r'\s+', ' ', data_text)

        sen = nltk.sent_tokenize(data_text)
        words = nltk.word_tokenize(data_text)
        wnlem = nltk.stem.WordNetLemmatizer()

        def perform_lemmatization(tokens):
            return [wnlem.lemmatize(token) for token in tokens] 

        pr = dict((ord(punctuation), None) for punctuation in string.punctuation)

        def get_processed_text(document):
            return perform_lemmatization(nltk.word_tokenize(document.lower().translate(pr)))

        greeting_inputs = ("hey", "hello", "whatsup", "hi")
        greeting_responses = ["hey", "hey hows you?", "*nods*", "hello, how you doing", "hello", "Welcome, I am good and you"]

        def generate_greeting_response(greeting):
            for token in greeting.split():
                if token.lower() in greeting_inputs:
                    return random.choice(greeting_responses)

        from sklearn.feature_extraction.text import TfidfVectorizer
        from sklearn.metrics.pairwise import cosine_similarity

        def generate_response(user_input):
            bot_response = ' '
            sen.append(user_input)
            word_vectorizer = TfidfVectorizer(tokenizer=get_processed_text, stop_words='english')
            word_vectors = word_vectorizer.fit_transform(sen)
            similar_vector_values = cosine_similarity(word_vectors[-1], word_vectors)
            similar_sentence_number = similar_vector_values.argsort()[0][-2]
            matched_vector = similar_vector_values.flatten()
            matched_vector.sort()
            vector_matched = matched_vector[-2]

            if vector_matched == 0:
                bot_response = bot_response + "Sorry, I did not understand that. Please try again."
                return bot_response
            else:
                bot_response = bot_response + "You said: " + sen[similar_sentence_number]
                return bot_response

        continue_flag = True
        print("Hello! Shoot your shot...")

        while continue_flag:
            human = input().lower()
            if human != 'bye':
                if human in ['thanks', 'thank you']:
                    continue_flag = False
                    print("You're welcome! Goodbye.")
                else:
                    if generate_greeting_response(human) is not None:
                        print("Bot: " + generate_greeting_response(human))
                    else:
                        print("Bot: ", end="")
                        print(generate_response(human))
                        sen.remove(human)
            else:
                continue_flag = False
                print("Bot says Goodbye.")
    except Exception as e:
        print(f"An error occurred: {e}")
else:
    print("The URL is empty. Please provide a valid URL.")